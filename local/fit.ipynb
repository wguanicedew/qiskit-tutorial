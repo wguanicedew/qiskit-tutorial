{
 "cells": [
  {
   "cell_type": "code",
   "execution_count": 55,
   "metadata": {},
   "outputs": [],
   "source": [
    "import numpy as np\n",
    "from scipy.optimize import curve_fit\n",
    "import matplotlib.pyplot as plt"
   ]
  },
  {
   "cell_type": "code",
   "execution_count": 84,
   "metadata": {},
   "outputs": [],
   "source": [
    "\"\"\"\n",
    "Count  the  outcome  as  an  error  \n",
    "if  the  outcome  bit  string  for  a  particular  state  has  odd  parity.\n",
    "Determine the error rate for each state.\n",
    "5.  Fit the error rates for differentnfor each basisPto a quadraticaPn2+bPn+cP.\n",
    "6.  Letθ2=aX+aY+aZandv2P=aP/θ2.  These are the parameters of the coherent error in thechannelCr.\n",
    "\"\"\"\n",
    "\n",
    "def count_errors(counts):\n",
    "    errors = 0\n",
    "    total_counts = sum(counts.values())\n",
    "    for state in counts:\n",
    "        sum_bits = sum([int(k) for k in list(state)])\n",
    "        if sum_bits % 2 == 1:\n",
    "            errors += counts[state]\n",
    "    return errors * 1.0 / total_counts\n",
    "\n",
    "\n",
    "def err_func(x, a, b, c):\n",
    "    return a * (x ** 2) + b * x + c\n",
    "\n",
    "\n",
    "def get_coherent_error_params(n, x_err, y_err, z_err):\n",
    "    px = np.polyfit(n, x_err, 2)\n",
    "    py = np.polyfit(n, y_err, 2)\n",
    "    pz = np.polyfit(n, z_err, 2)\n",
    "    theta_square = px[0] + py[0] + pz[0]\n",
    "    vx_square = px[0] / theta_square\n",
    "    vy_square = py[0] / theta_square\n",
    "    vz_square = pz[0] / theta_square\n",
    "    print(px)\n",
    "    print(py)\n",
    "    print(pz)\n",
    "    print(vx_square)\n",
    "    \n",
    "def plot_fit(f, xdata, ydata):\n",
    "    popt, pcov = curve_fit(f, xdata, ydata)\n",
    "    #popt = np.polyfit(xdata, ydata, 2)\n",
    "    plt.subplot()\n",
    "    plt.title('curve_fit')\n",
    "    new_ydata = [f(x, *popt) for x in xdata]\n",
    "    plt.plot(xdata, new_ydata, 'r-',\n",
    "             label='fit: a=%5.3f, b=%5.3f, c=%5.3f' % tuple(popt))\n",
    "    plt.xlabel('n')\n",
    "    plt.ylabel('err')\n",
    "    plt.show()\n"
   ]
  },
  {
   "cell_type": "code",
   "execution_count": 83,
   "metadata": {},
   "outputs": [
    {
     "data": {
      "image/png": "[encoded data removed]",
      "text/plain": [
       "<Figure size 432x288 with 1 Axes>"
      ]
     },
     "metadata": {
      "needs_background": "light"
     },
     "output_type": "display_data"
    }
   ],
   "source": [
    "plot_fit(err_func, n, z_err)"
   ]
  },
  {
   "cell_type": "code",
   "execution_count": null,
   "metadata": {},
   "outputs": [],
   "source": []
  }
 ],
 "metadata": {
  "kernelspec": {
   "display_name": "Python 3",
   "language": "python",
   "name": "python3"
  },
  "language_info": {
   "codemirror_mode": {
    "name": "ipython",
    "version": 3
   },
   "file_extension": ".py",
   "mimetype": "text/x-python",
   "name": "python",
   "nbconvert_exporter": "python",
   "pygments_lexer": "ipython3",
   "version": "3.7.3"
  }
 },
 "nbformat": 4,
 "nbformat_minor": 2
}
