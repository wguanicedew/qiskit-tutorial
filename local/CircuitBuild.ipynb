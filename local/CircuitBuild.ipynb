{
 "cells": [
  {
   "cell_type": "code",
   "execution_count": 102,
   "metadata": {},
   "outputs": [],
   "source": [
    "import qiskit as qk\n",
    "import math\n",
    "import numpy as np"
   ]
  },
  {
   "cell_type": "code",
   "execution_count": 103,
   "metadata": {},
   "outputs": [
    {
     "data": {
      "text/plain": [
       "array([[0.92141417, 0.95811443]])"
      ]
     },
     "execution_count": 103,
     "metadata": {},
     "output_type": "execute_result"
    }
   ],
   "source": [
    "np.random.rand(1,2)"
   ]
  },
  {
   "cell_type": "code",
   "execution_count": 104,
   "metadata": {},
   "outputs": [],
   "source": [
    "def testR(randn,p):\n",
    "    \n",
    "    if randn >= p:\n",
    "        return 0\n",
    "    elif randn < p/3:\n",
    "        return 1\n",
    "    elif randn < 2*p/3:\n",
    "        return 2\n",
    "    elif randn < p:\n",
    "        return 3\n",
    "\n",
    "def build_pauli_mask(n,basis,p,gatetype):\n",
    "    \n",
    "    if gatetype == 'CX':\n",
    "        if basis == 'X' or basis == 'Y':\n",
    "            r = np.random.rand(6*n-1)\n",
    "        else:\n",
    "            r = np.random.rand(7*n-1)\n",
    "    else:\n",
    "        if basis == 'X' or basis == 'Y':\n",
    "            r = np.random.rand(5*n-1)\n",
    "        else:\n",
    "            r = np.random.rand(6*n-1)\n",
    "        \n",
    "    for i in range(len(r)):\n",
    "        r[i] = testR(r[i],p)\n",
    "    \n",
    "    return r\n",
    "\n",
    "def add_pauli(qc,qr,qubit,m):\n",
    "    \n",
    "    if m == 0:\n",
    "        pass\n",
    "    elif m == 1:\n",
    "        qc.x(qr[qubit])\n",
    "    elif m == 2:\n",
    "        qc.y(qr[qubit])\n",
    "    elif m == 3:\n",
    "        qc.z(qr[qubit])\n",
    "    \n",
    "    return"
   ]
  },
  {
   "cell_type": "code",
   "execution_count": 157,
   "metadata": {},
   "outputs": [],
   "source": [
    "def charcterization_sequence(n,p,basis,fgateparams,cname='circuit0'):\n",
    "    \n",
    "    qr = qk.QuantumRegister(n)\n",
    "    cr = qk.ClassicalRegister(n)\n",
    "    circuit = qk.QuantumCircuit(qr,cr,name=cname)\n",
    "    \n",
    "    mask = build_pauli_mask(n,basis,p,fgateparams[0])\n",
    "    \n",
    "    j = prepareCircuitWithPaulis(qr,cr,circuit,n,basis,mask,fgateparams)\n",
    "    print(j)\n",
    "    \n",
    "    return circuit\n",
    "        \n",
    "def prepareCircuitWithPaulis(qr,cr,qc,n,basis,mask,fgateparams):\n",
    "    \n",
    "    j=0\n",
    "    add_pauli(qc,qr,j,mask[j])\n",
    "    j += 1\n",
    "    \n",
    "    qc.h(qr[0])\n",
    "    \n",
    "    for i in range(n):\n",
    "        add_pauli(qc,qr,i,mask[j])\n",
    "        j += 1\n",
    "    \n",
    "    for i in range(n-1):\n",
    "        qc.cx(qr[0],qr[i+1])\n",
    "        add_pauli(qc,qr,0,mask[j])\n",
    "        j+=1\n",
    "        add_pauli(qc,qr,i+1,mask[j])\n",
    "        j+=1\n",
    "    \n",
    "    if basis == 'X':\n",
    "        for i in range(n):\n",
    "            qc.h(qr[i])\n",
    "            add_pauli(qc,qr,i,mask[j])\n",
    "            j+=1\n",
    "    elif basis == 'Y':\n",
    "        for i in range(n):\n",
    "            qc.u3(math.pi/2,-math.pi/2,math.pi/2,qr[i])\n",
    "            add_pauli(qc,qr,i,mask[j])\n",
    "            j+=1\n",
    "            \n",
    "    if fgateparams[0] == 'U1':\n",
    "        for i in range(n):\n",
    "            qc.u1(-fgateparams[1],qr[i])\n",
    "            add_pauli(qc,qr,i,mask[j])\n",
    "            j+=1\n",
    "            qc.u1(fgateparams[1],qr[i])\n",
    "    elif fgateparams[0] == 'U2':\n",
    "        for i in range(n):\n",
    "            qc.u2(-fgateparams[2],-fgateparams[1],qr[i])\n",
    "            add_pauli(qc,qr,i,mask[j])\n",
    "            j+=1\n",
    "            qc.u2(fgateparams[1],fgateparams[2],qr[i])\n",
    "    elif fgateparams[0] == 'U3':\n",
    "        for i in range(n):\n",
    "            qc.u3(fgateparams[1],-fgateparams[3],-fgateparams[2],qr[i])\n",
    "            add_pauli(qc,qr,i,mask[j])\n",
    "            j+=1\n",
    "            qc.u3(fgateparams[1],fgateparams[2],fgateparams[3],qr[i])        \n",
    "    elif fgateparams[0] == 'CX':     \n",
    "        for i in range(n-1):\n",
    "            qc.cx(qr[i],qr[i+1])\n",
    "            add_pauli(qc,qr,i,mask[j])\n",
    "            j+=1\n",
    "            add_pauli(qc,qr,i+1,mask[j])\n",
    "            j+=1\n",
    "        qc.cx(qr[n-1],qr[0])\n",
    "        add_pauli(qc,qr,n-1,mask[j])\n",
    "        j+=1\n",
    "        add_pauli(qc,qr,0,mask[j])\n",
    "        j+=1\n",
    "        \n",
    "    print(j)\n",
    "     \n",
    "    if basis == 'Z':\n",
    "        for i in range(n):\n",
    "            add_pauli(qc,qr,i,mask[j])\n",
    "            j+=1\n",
    "            qc.h(qr[i])\n",
    "            add_pauli(qc,qr,i,mask[j])\n",
    "            j+=1\n",
    "            qc.measure(qr[i],cr[i])\n",
    "    else:\n",
    "        for i in range(n):\n",
    "            qc.measure(qr[i],cr[i])\n",
    "            \n",
    "    return j\n",
    "\n",
    "def prepareGHZWithPaulis(qr,cr,qc,n,basis,mask,fgateparams):\n",
    "    \n",
    "    j=0\n",
    "    add_pauli(qc,qr,j,mask[j])\n",
    "    j += 1\n",
    "    \n",
    "    qc.h(qr[0])\n",
    "    \n",
    "    for i in range(n):\n",
    "        add_pauli(qc,qr,i,mask[j])\n",
    "        j += 1\n",
    "    \n",
    "    for i in range(n-1):\n",
    "        qc.cx(qr[0],qr[i+1])\n",
    "        add_pauli(qc,qr,0,mask[j])\n",
    "        j+=1\n",
    "        add_pauli(qc,qr,i+1,mask[j])\n",
    "        j+=1\n",
    "    \n",
    "    if basis == 'X':\n",
    "        for i in range(n):\n",
    "            qc.h(qr[i])\n",
    "            add_pauli(qc,qr,i,mask[j])\n",
    "            j+=1\n",
    "    elif basis == 'Y':\n",
    "        for i in range(n):\n",
    "            #qc.u3(math.pi/2,-math.pi/2,math.pi/2,qr[i])\n",
    "            qc.h(qr[i])\n",
    "            qc.s(qr[i])\n",
    "            add_pauli(qc,qr,i,mask[j])\n",
    "            j+=1\n",
    "            \n",
    "    return j\n",
    "\n",
    "def ghz_sequence(n,p,basis,fgateparams,cname='circuit0'):\n",
    "    \n",
    "    qr = qk.QuantumRegister(n)\n",
    "    cr = qk.ClassicalRegister(n)\n",
    "    circuit = qk.QuantumCircuit(qr,cr,name=cname)\n",
    "    \n",
    "    mask = build_pauli_mask(n,basis,p,fgateparams[0])\n",
    "    \n",
    "    j = prepareGHZWithPaulis(qr,cr,circuit,n,basis,mask,fgateparams)\n",
    "    #print(j)\n",
    "    \n",
    "    return circuit\n"
   ]
  },
  {
   "cell_type": "code",
   "execution_count": 113,
   "metadata": {},
   "outputs": [
    {
     "data": {
      "text/html": [
       "<pre style=\"word-wrap: normal;white-space: pre;background: #fff0;line-height: 1.1;font-family: &quot;Courier New&quot;,Courier,monospace\">          ┌───┐                                    ┌─────────────────────┐┌─┐»\n",
       "q39_0: |0>┤ H ├──■────■────────────────────────────┤ U3(pi/2,-pi/2,pi/2) ├┤M├»\n",
       "          └───┘┌─┴─┐  │  ┌─────────────────────┐┌─┐└─────────────────────┘└╥┘»\n",
       "q39_1: |0>─────┤ X ├──┼──┤ U3(pi/2,-pi/2,pi/2) ├┤M├────────────────────────╫─»\n",
       "               └───┘┌─┴─┐└─────────────────────┘└╥┘┌─────────────────────┐ ║ »\n",
       "q39_2: |0>──────────┤ X ├────────────────────────╫─┤ U3(pi/2,-pi/2,pi/2) ├─╫─»\n",
       "                    └───┘                        ║ └─────────────────────┘ ║ »\n",
       " c39_0: 0 ═══════════════════════════════════════╬═════════════════════════╩═»\n",
       "                                                 ║                           »\n",
       " c39_1: 0 ═══════════════════════════════════════╩═══════════════════════════»\n",
       "                                                                             »\n",
       " c39_2: 0 ═══════════════════════════════════════════════════════════════════»\n",
       "                                                                             »\n",
       "«          \n",
       "«q39_0: ───\n",
       "«          \n",
       "«q39_1: ───\n",
       "«       ┌─┐\n",
       "«q39_2: ┤M├\n",
       "«       └╥┘\n",
       "«c39_0: ═╬═\n",
       "«        ║ \n",
       "«c39_1: ═╬═\n",
       "«        ║ \n",
       "«c39_2: ═╩═\n",
       "«          </pre>"
      ],
      "text/plain": [
       "<qiskit.visualization.text.TextDrawing at 0x1a18c0d240>"
      ]
     },
     "execution_count": 113,
     "metadata": {},
     "output_type": "execute_result"
    }
   ],
   "source": [
    "circ = charcterization_sequence(3,0,'Y',['U1',0],cname='circuit0')\n",
    "circ.draw()"
   ]
  },
  {
   "cell_type": "code",
   "execution_count": 110,
   "metadata": {},
   "outputs": [
    {
     "name": "stdout",
     "output_type": "stream",
     "text": [
      "{'110': 1064, '001': 1008, '111': 1032, '000': 1056, '100': 997, '101': 961, '010': 1053, '011': 1021}\n"
     ]
    }
   ],
   "source": [
    "simulator = qk.Aer.get_backend('qasm_simulator')\n",
    "job = qk.execute(circ, simulator, shots=1000)\n",
    "result = job.result()\n",
    "counts = result.get_counts(circ)\n",
    "print(counts)"
   ]
  },
  {
   "cell_type": "code",
   "execution_count": 154,
   "metadata": {},
   "outputs": [
    {
     "data": {
      "text/html": [
       "<pre style=\"word-wrap: normal;white-space: pre;background: #fff0;line-height: 1.1;font-family: &quot;Courier New&quot;,Courier,monospace\">          ┌───┐               ┌───┐┌───┐\n",
       "q54_0: |0>┤ H ├──■────■───────┤ H ├┤ S ├\n",
       "          └───┘┌─┴─┐  │  ┌───┐├───┤└───┘\n",
       "q54_1: |0>─────┤ X ├──┼──┤ H ├┤ S ├─────\n",
       "               └───┘┌─┴─┐└───┘├───┤┌───┐\n",
       "q54_2: |0>──────────┤ X ├─────┤ H ├┤ S ├\n",
       "                    └───┘     └───┘└───┘\n",
       " c54_0: 0 ══════════════════════════════\n",
       "                                        \n",
       " c54_1: 0 ══════════════════════════════\n",
       "                                        \n",
       " c54_2: 0 ══════════════════════════════\n",
       "                                        </pre>"
      ],
      "text/plain": [
       "<qiskit.visualization.text.TextDrawing at 0x1a18bf6e10>"
      ]
     },
     "execution_count": 154,
     "metadata": {},
     "output_type": "execute_result"
    }
   ],
   "source": [
    "circ = ghz_sequence(3,0,'Y',['U1',0],cname='circuit0')\n",
    "circ.draw()"
   ]
  },
  {
   "cell_type": "code",
   "execution_count": 155,
   "metadata": {},
   "outputs": [
    {
     "name": "stdout",
     "output_type": "stream",
     "text": [
      "[ 0.5+0.j  0. +0.j  0. +0.j -0.5+0.j  0. +0.j -0.5+0.j -0.5+0.j  0. +0.j]\n"
     ]
    }
   ],
   "source": [
    "simulator = qk.Aer.get_backend('statevector_simulator')\n",
    "job = qk.execute(circ, simulator, shots=1000)\n",
    "result = job.result()\n",
    "print(result.get_statevector())"
   ]
  },
  {
   "cell_type": "code",
   "execution_count": null,
   "metadata": {},
   "outputs": [],
   "source": []
  }
 ],
 "metadata": {
  "kernelspec": {
   "display_name": "Python 3",
   "language": "python",
   "name": "python3"
  },
  "language_info": {
   "codemirror_mode": {
    "name": "ipython",
    "version": 3
   },
   "file_extension": ".py",
   "mimetype": "text/x-python",
   "name": "python",
   "nbconvert_exporter": "python",
   "pygments_lexer": "ipython3",
   "version": "3.7.3"
  }
 },
 "nbformat": 4,
 "nbformat_minor": 2
}
