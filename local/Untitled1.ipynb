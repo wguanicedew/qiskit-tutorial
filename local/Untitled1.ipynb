{
 "cells": [
  {
   "cell_type": "code",
   "execution_count": 16,
   "metadata": {},
   "outputs": [],
   "source": [
    "from qiskit import *\n",
    "from qiskit.providers.aer.noise import NoiseModel, errors"
   ]
  },
  {
   "cell_type": "code",
   "execution_count": 13,
   "metadata": {},
   "outputs": [
    {
     "data": {
      "text/plain": [
       "NoiseModel:\n",
       "  Basis gates: ['cx', 'id', 'u1', 'u2', 'u3']\n",
       "  Instructions with noise: ['u3', 'u2', 'u1']\n",
       "  All-qubits errors: ['u1', 'u2', 'u3']"
      ]
     },
     "execution_count": 13,
     "metadata": {},
     "output_type": "execute_result"
    }
   ],
   "source": [
    "nm = NoiseModel()\n",
    "error = errors.depolarizing_error(0.01, 1)\n",
    "nm.add_all_qubit_quantum_error(error, ['u1', 'u2', 'u3'])\n",
    "nm\n",
    "\n",
    "job = execute(circ, sim,\n",
    "              basis_gates.noise_model.basis_gates,\n",
    "              noise_model=noise_model)"
   ]
  },
  {
   "cell_type": "code",
   "execution_count": 22,
   "metadata": {},
   "outputs": [
    {
     "name": "stdout",
     "output_type": "stream",
     "text": [
      "        ┌───────┐┌─┐\n",
      "q_0: |0>┤ Kraus ├┤M├\n",
      "        └───────┘└╥┘\n",
      " c_0: 0 ══════════╩═\n",
      "                    \n"
     ]
    },
    {
     "data": {
      "text/plain": [
       "{'1': 9, '0': 1991}"
      ]
     },
     "execution_count": 22,
     "metadata": {},
     "output_type": "execute_result"
    }
   ],
   "source": [
    "circ = QuantumCircuit(1, 1)\n",
    "circ.append(error, [0])\n",
    "circ.measure(0, 0)\n",
    "print(circ.draw())\n",
    "\n",
    "sim = Aer.get_backend('qasm_simulator')\n",
    "job = execute(circ, sim, shots=2000)\n",
    "result = job.result()\n",
    "result.get_counts(0)"
   ]
  },
  {
   "cell_type": "code",
   "execution_count": 27,
   "metadata": {},
   "outputs": [],
   "source": [
    "import scipy.linalg as la\n",
    "import numpy as np\n",
    "\n",
    "sx = np.array([[0,1],[1,0]])"
   ]
  },
  {
   "cell_type": "code",
   "execution_count": 8,
   "metadata": {},
   "outputs": [
    {
     "data": {
      "text/plain": [
       "<function scipy.linalg.matfuncs.expm(A)>"
      ]
     },
     "execution_count": 8,
     "metadata": {},
     "output_type": "execute_result"
    }
   ],
   "source": [
    "la.expm(1j * theta * XX)"
   ]
  },
  {
   "cell_type": "code",
   "execution_count": 30,
   "metadata": {},
   "outputs": [],
   "source": [
    "coherent_error = errors.coherent_unitary_error(la.expm(1j * 0.1 * sx))"
   ]
  },
  {
   "cell_type": "code",
   "execution_count": 31,
   "metadata": {},
   "outputs": [
    {
     "name": "stdout",
     "output_type": "stream",
     "text": [
      "        ┌─────────┐┌─┐\n",
      "q_0: |0>┤ Unitary ├┤M├\n",
      "        └─────────┘└╥┘\n",
      " c_0: 0 ════════════╩═\n",
      "                      \n"
     ]
    }
   ],
   "source": [
    "circ = QuantumCircuit(1, 1)\n",
    "circ.append(coherent_error, [0])\n",
    "circ.measure(0, 0)\n",
    "print(circ.draw())"
   ]
  },
  {
   "cell_type": "code",
   "execution_count": null,
   "metadata": {},
   "outputs": [],
   "source": []
  }
 ],
 "metadata": {
  "kernelspec": {
   "display_name": "Python 3",
   "language": "python",
   "name": "python3"
  },
  "language_info": {
   "codemirror_mode": {
    "name": "ipython",
    "version": 3
   },
   "file_extension": ".py",
   "mimetype": "text/x-python",
   "name": "python",
   "nbconvert_exporter": "python",
   "pygments_lexer": "ipython3",
   "version": "3.7.3"
  }
 },
 "nbformat": 4,
 "nbformat_minor": 2
}
